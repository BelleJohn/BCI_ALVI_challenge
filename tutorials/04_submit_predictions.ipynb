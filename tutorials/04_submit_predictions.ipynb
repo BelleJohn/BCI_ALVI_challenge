{
 "cells": [
  {
   "cell_type": "markdown",
   "metadata": {},
   "source": [
    "# Submit Predictions\n",
    "\n",
    "This notebook shows how to prepare a submission of your model's predictions on the test data for the computation."
   ]
  },
  {
   "cell_type": "code",
   "execution_count": 1,
   "metadata": {},
   "outputs": [
    {
     "name": "stderr",
     "output_type": "stream",
     "text": [
      "/home/lutetia/anaconda3/lib/python3.9/site-packages/scipy/__init__.py:146: UserWarning: A NumPy version >=1.16.5 and <1.23.0 is required for this version of SciPy (detected version 1.26.4\n",
      "  warnings.warn(f\"A NumPy version >={np_minversion} and <{np_maxversion}\"\n"
     ]
    }
   ],
   "source": [
    "import os\n",
    "import sys\n",
    "sys.path.insert(1, os.path.realpath(os.path.pardir))\n",
    "\n",
    "from pathlib import Path\n",
    "from natsort import natsorted\n",
    "import numpy as np\n",
    "from safetensors.torch import load_model\n",
    "import torch \n",
    "import pandas as pd\n",
    "\n",
    "from utils import hvatnet\n",
    "from utils.creating_dataset import LEFT_TO_RIGHT_HAND\n"
   ]
  },
  {
   "cell_type": "markdown",
   "metadata": {},
   "source": [
    "## Load pre-trained model\n",
    "\n",
    "This code loads the pre-trained baseline model - might be different for your model."
   ]
  },
  {
   "cell_type": "code",
   "execution_count": 2,
   "metadata": {},
   "outputs": [
    {
     "name": "stdout",
     "output_type": "stream",
     "text": [
      "Number of parameters: 277850\n"
     ]
    }
   ],
   "source": [
    "device = 'cuda:0'\n",
    "dtype = torch.float32\n",
    "\n",
    "# weights = r\"C:\\Users\\feder\\Documents\\github\\BCI_ALVI_challenge\\tutorials\\logs\\test_2_run_fedya\\step_3300_loss_0.2750.safetensors\"\n",
    "weights = \"/media/lutetia/Extreme SSD/EMG_Yun/BCI_ALVI_challenge/tutorials/logs/optuna_run/step_31800_loss_0.1357.safetensors\"\n",
    "\n",
    "MODEL_TYPE = 'hvatnet'\n",
    "model_config = hvatnet.Config(n_electrodes=8, n_channels_out=20,\n",
    "                            n_res_blocks=3, n_blocks_per_layer=3,\n",
    "                            n_filters=128, kernel_size=3,\n",
    "                            strides=(2, 2, 2), dilation=2, \n",
    "                            small_strides = (2, 2))\n",
    "\n",
    "\n",
    "\n",
    "# model_config = hvatnet.Config(n_electrodes=8, n_channels_out=20,\n",
    "#                             n_res_blocks=5, n_blocks_per_layer=4,\n",
    "#                             n_filters=25, kernel_size=4,\n",
    "#                             strides=(2, 2, 2), dilation=1, \n",
    "#                             small_strides = (2, 2))\n",
    "\n",
    "model = hvatnet.HVATNetv3(model_config)\n",
    "\n",
    "# load_model(model, weights)\n",
    "torch.load(weights, map_location=device)\n",
    "\n",
    "model = model.to(device).to(dtype)"
   ]
  },
  {
   "cell_type": "markdown",
   "metadata": {},
   "source": [
    "### Save `submission.cvs` file\n",
    "\n",
    "This code shows how the data was prepare and downsampled during inference. Make sure that your data is processed similarly!"
   ]
  },
  {
   "cell_type": "code",
   "execution_count": 3,
   "metadata": {},
   "outputs": [
    {
     "name": "stdout",
     "output_type": "stream",
     "text": [
      "Found 72 samples in /media/lutetia/Extreme SSD/EMG_Yun/bci-initiative-alvi-hci-challenge/dataset_v2_blocks/dataset_v2_blocks/amputant/left/fedya_tropin_standart_elbow_left/preproc_angles/submit\n"
     ]
    }
   ],
   "source": [
    "# DATA_PATH = Path(r\"F:\\Dropbox (Personal)\\BCII\\BCI Challenges\\2024 ALVI EMG Decoding\\dataset_v2_blocks\\dataset_v2_blocks\")\n",
    "DATA_PATH = Path(\"/media/lutetia/Extreme SSD/EMG_Yun/bci-initiative-alvi-hci-challenge/dataset_v2_blocks/dataset_v2_blocks\")\n",
    "\n",
    "test_data_name = 'fedya_tropin_standart_elbow_left'  # shoould match `test_dataset_list` used to train the model\n",
    "\n",
    "\n",
    "data_folder = DATA_PATH / \"amputant\" / \"left\" / test_data_name / \"preproc_angles\" / \"submit\"\n",
    "all_paths = natsorted(data_folder.glob('*.npz'))\n",
    "print(f'Found {len(all_paths)} samples in {data_folder}')\n"
   ]
  },
  {
   "cell_type": "code",
   "execution_count": 4,
   "metadata": {},
   "outputs": [
    {
     "name": "stderr",
     "output_type": "stream",
     "text": [
      "/home/lutetia/anaconda3/lib/python3.9/site-packages/torch/nn/modules/conv.py:306: UserWarning: Using padding='same' with even kernel lengths and odd dilation may require a zero-padded copy of the input be created (Triggered internally at ../aten/src/ATen/native/Convolution.cpp:1031.)\n",
      "  return F.conv1d(input, weight, bias, self.stride,\n"
     ]
    },
    {
     "name": "stdout",
     "output_type": "stream",
     "text": [
      "Completed 1/72. Loaded data: (3721, 8) - padded to: (3840, 8) - predictions (480, 20) - downsampled to: (466, 20)\n",
      "Completed 2/72. Loaded data: (3725, 8) - padded to: (3840, 8) - predictions (480, 20) - downsampled to: (466, 20)\n",
      "Completed 3/72. Loaded data: (3724, 8) - padded to: (3840, 8) - predictions (480, 20) - downsampled to: (466, 20)\n",
      "Completed 4/72. Loaded data: (3724, 8) - padded to: (3840, 8) - predictions (480, 20) - downsampled to: (466, 20)\n",
      "Completed 5/72. Loaded data: (3729, 8) - padded to: (3840, 8) - predictions (480, 20) - downsampled to: (467, 20)\n",
      "Completed 6/72. Loaded data: (3726, 8) - padded to: (3840, 8) - predictions (480, 20) - downsampled to: (466, 20)\n",
      "Completed 7/72. Loaded data: (3724, 8) - padded to: (3840, 8) - predictions (480, 20) - downsampled to: (466, 20)\n",
      "Completed 8/72. Loaded data: (3728, 8) - padded to: (3840, 8) - predictions (480, 20) - downsampled to: (466, 20)\n",
      "Completed 9/72. Loaded data: (3724, 8) - padded to: (3840, 8) - predictions (480, 20) - downsampled to: (466, 20)\n",
      "Completed 10/72. Loaded data: (3728, 8) - padded to: (3840, 8) - predictions (480, 20) - downsampled to: (466, 20)\n",
      "Completed 11/72. Loaded data: (3727, 8) - padded to: (3840, 8) - predictions (480, 20) - downsampled to: (466, 20)\n",
      "Completed 12/72. Loaded data: (3728, 8) - padded to: (3840, 8) - predictions (480, 20) - downsampled to: (466, 20)\n",
      "Completed 13/72. Loaded data: (3724, 8) - padded to: (3840, 8) - predictions (480, 20) - downsampled to: (466, 20)\n",
      "Completed 14/72. Loaded data: (3727, 8) - padded to: (3840, 8) - predictions (480, 20) - downsampled to: (466, 20)\n",
      "Completed 15/72. Loaded data: (3725, 8) - padded to: (3840, 8) - predictions (480, 20) - downsampled to: (466, 20)\n",
      "Completed 16/72. Loaded data: (3724, 8) - padded to: (3840, 8) - predictions (480, 20) - downsampled to: (466, 20)\n",
      "Completed 17/72. Loaded data: (3724, 8) - padded to: (3840, 8) - predictions (480, 20) - downsampled to: (466, 20)\n",
      "Completed 18/72. Loaded data: (3726, 8) - padded to: (3840, 8) - predictions (480, 20) - downsampled to: (466, 20)\n",
      "Completed 19/72. Loaded data: (3725, 8) - padded to: (3840, 8) - predictions (480, 20) - downsampled to: (466, 20)\n",
      "Completed 20/72. Loaded data: (3726, 8) - padded to: (3840, 8) - predictions (480, 20) - downsampled to: (466, 20)\n",
      "Completed 21/72. Loaded data: (3722, 8) - padded to: (3840, 8) - predictions (480, 20) - downsampled to: (466, 20)\n",
      "Completed 22/72. Loaded data: (3727, 8) - padded to: (3840, 8) - predictions (480, 20) - downsampled to: (466, 20)\n",
      "Completed 23/72. Loaded data: (3724, 8) - padded to: (3840, 8) - predictions (480, 20) - downsampled to: (466, 20)\n",
      "Completed 24/72. Loaded data: (3724, 8) - padded to: (3840, 8) - predictions (480, 20) - downsampled to: (466, 20)\n",
      "Completed 25/72. Loaded data: (3723, 8) - padded to: (3840, 8) - predictions (480, 20) - downsampled to: (466, 20)\n",
      "Completed 26/72. Loaded data: (3724, 8) - padded to: (3840, 8) - predictions (480, 20) - downsampled to: (466, 20)\n",
      "Completed 27/72. Loaded data: (3724, 8) - padded to: (3840, 8) - predictions (480, 20) - downsampled to: (466, 20)\n",
      "Completed 28/72. Loaded data: (3727, 8) - padded to: (3840, 8) - predictions (480, 20) - downsampled to: (466, 20)\n",
      "Completed 29/72. Loaded data: (3724, 8) - padded to: (3840, 8) - predictions (480, 20) - downsampled to: (466, 20)\n",
      "Completed 30/72. Loaded data: (3724, 8) - padded to: (3840, 8) - predictions (480, 20) - downsampled to: (466, 20)\n",
      "Completed 31/72. Loaded data: (3730, 8) - padded to: (3840, 8) - predictions (480, 20) - downsampled to: (467, 20)\n",
      "Completed 32/72. Loaded data: (3726, 8) - padded to: (3840, 8) - predictions (480, 20) - downsampled to: (466, 20)\n",
      "Completed 33/72. Loaded data: (3727, 8) - padded to: (3840, 8) - predictions (480, 20) - downsampled to: (466, 20)\n",
      "Completed 34/72. Loaded data: (3726, 8) - padded to: (3840, 8) - predictions (480, 20) - downsampled to: (466, 20)\n",
      "Completed 35/72. Loaded data: (3725, 8) - padded to: (3840, 8) - predictions (480, 20) - downsampled to: (466, 20)\n",
      "Completed 36/72. Loaded data: (3728, 8) - padded to: (3840, 8) - predictions (480, 20) - downsampled to: (466, 20)\n",
      "Completed 37/72. Loaded data: (3724, 8) - padded to: (3840, 8) - predictions (480, 20) - downsampled to: (466, 20)\n",
      "Completed 38/72. Loaded data: (3725, 8) - padded to: (3840, 8) - predictions (480, 20) - downsampled to: (466, 20)\n",
      "Completed 39/72. Loaded data: (3723, 8) - padded to: (3840, 8) - predictions (480, 20) - downsampled to: (466, 20)\n",
      "Completed 40/72. Loaded data: (3724, 8) - padded to: (3840, 8) - predictions (480, 20) - downsampled to: (466, 20)\n",
      "Completed 41/72. Loaded data: (3724, 8) - padded to: (3840, 8) - predictions (480, 20) - downsampled to: (466, 20)\n",
      "Completed 42/72. Loaded data: (3724, 8) - padded to: (3840, 8) - predictions (480, 20) - downsampled to: (466, 20)\n",
      "Completed 43/72. Loaded data: (3720, 8) - padded to: (3840, 8) - predictions (480, 20) - downsampled to: (465, 20)\n",
      "Completed 44/72. Loaded data: (3726, 8) - padded to: (3840, 8) - predictions (480, 20) - downsampled to: (466, 20)\n",
      "Completed 45/72. Loaded data: (3723, 8) - padded to: (3840, 8) - predictions (480, 20) - downsampled to: (466, 20)\n",
      "Completed 46/72. Loaded data: (1730, 8) - padded to: (1792, 8) - predictions (224, 20) - downsampled to: (217, 20)\n",
      "Completed 47/72. Loaded data: (1730, 8) - padded to: (1792, 8) - predictions (224, 20) - downsampled to: (217, 20)\n",
      "Completed 48/72. Loaded data: (1732, 8) - padded to: (1792, 8) - predictions (224, 20) - downsampled to: (217, 20)\n",
      "Completed 49/72. Loaded data: (1731, 8) - padded to: (1792, 8) - predictions (224, 20) - downsampled to: (217, 20)\n",
      "Completed 50/72. Loaded data: (1735, 8) - padded to: (1792, 8) - predictions (224, 20) - downsampled to: (217, 20)\n",
      "Completed 51/72. Loaded data: (1730, 8) - padded to: (1792, 8) - predictions (224, 20) - downsampled to: (217, 20)\n",
      "Completed 52/72. Loaded data: (1729, 8) - padded to: (1792, 8) - predictions (224, 20) - downsampled to: (217, 20)\n",
      "Completed 53/72. Loaded data: (1730, 8) - padded to: (1792, 8) - predictions (224, 20) - downsampled to: (217, 20)\n",
      "Completed 54/72. Loaded data: (1730, 8) - padded to: (1792, 8) - predictions (224, 20) - downsampled to: (217, 20)\n",
      "Completed 55/72. Loaded data: (1729, 8) - padded to: (1792, 8) - predictions (224, 20) - downsampled to: (217, 20)\n",
      "Completed 56/72. Loaded data: (1734, 8) - padded to: (1792, 8) - predictions (224, 20) - downsampled to: (217, 20)\n",
      "Completed 57/72. Loaded data: (1733, 8) - padded to: (1792, 8) - predictions (224, 20) - downsampled to: (217, 20)\n",
      "Completed 58/72. Loaded data: (1729, 8) - padded to: (1792, 8) - predictions (224, 20) - downsampled to: (217, 20)\n",
      "Completed 59/72. Loaded data: (1731, 8) - padded to: (1792, 8) - predictions (224, 20) - downsampled to: (217, 20)\n",
      "Completed 60/72. Loaded data: (1731, 8) - padded to: (1792, 8) - predictions (224, 20) - downsampled to: (217, 20)\n",
      "Completed 61/72. Loaded data: (1732, 8) - padded to: (1792, 8) - predictions (224, 20) - downsampled to: (217, 20)\n",
      "Completed 62/72. Loaded data: (1736, 8) - padded to: (1792, 8) - predictions (224, 20) - downsampled to: (217, 20)\n",
      "Completed 63/72. Loaded data: (1731, 8) - padded to: (1792, 8) - predictions (224, 20) - downsampled to: (217, 20)\n",
      "Completed 64/72. Loaded data: (1732, 8) - padded to: (1792, 8) - predictions (224, 20) - downsampled to: (217, 20)\n",
      "Completed 65/72. Loaded data: (1733, 8) - padded to: (1792, 8) - predictions (224, 20) - downsampled to: (217, 20)\n",
      "Completed 66/72. Loaded data: (1734, 8) - padded to: (1792, 8) - predictions (224, 20) - downsampled to: (217, 20)\n",
      "Completed 67/72. Loaded data: (1729, 8) - padded to: (1792, 8) - predictions (224, 20) - downsampled to: (217, 20)\n",
      "Completed 68/72. Loaded data: (1727, 8) - padded to: (1792, 8) - predictions (224, 20) - downsampled to: (216, 20)\n",
      "Completed 69/72. Loaded data: (1736, 8) - padded to: (1792, 8) - predictions (224, 20) - downsampled to: (217, 20)\n",
      "Completed 70/72. Loaded data: (1729, 8) - padded to: (1792, 8) - predictions (224, 20) - downsampled to: (217, 20)\n",
      "Completed 71/72. Loaded data: (1735, 8) - padded to: (1792, 8) - predictions (224, 20) - downsampled to: (217, 20)\n",
      "Completed 72/72. Loaded data: (1735, 8) - padded to: (1792, 8) - predictions (224, 20) - downsampled to: (217, 20)\n"
     ]
    },
    {
     "data": {
      "text/html": [
       "<div>\n",
       "<style scoped>\n",
       "    .dataframe tbody tr th:only-of-type {\n",
       "        vertical-align: middle;\n",
       "    }\n",
       "\n",
       "    .dataframe tbody tr th {\n",
       "        vertical-align: top;\n",
       "    }\n",
       "\n",
       "    .dataframe thead th {\n",
       "        text-align: right;\n",
       "    }\n",
       "</style>\n",
       "<table border=\"1\" class=\"dataframe\">\n",
       "  <thead>\n",
       "    <tr style=\"text-align: right;\">\n",
       "      <th></th>\n",
       "      <th>0</th>\n",
       "      <th>1</th>\n",
       "      <th>2</th>\n",
       "      <th>3</th>\n",
       "      <th>4</th>\n",
       "      <th>5</th>\n",
       "      <th>6</th>\n",
       "      <th>7</th>\n",
       "      <th>8</th>\n",
       "      <th>9</th>\n",
       "      <th>10</th>\n",
       "      <th>11</th>\n",
       "      <th>12</th>\n",
       "      <th>13</th>\n",
       "      <th>14</th>\n",
       "      <th>15</th>\n",
       "      <th>16</th>\n",
       "      <th>17</th>\n",
       "      <th>18</th>\n",
       "      <th>19</th>\n",
       "    </tr>\n",
       "  </thead>\n",
       "  <tbody>\n",
       "    <tr>\n",
       "      <th>0</th>\n",
       "      <td>0.309822</td>\n",
       "      <td>0.025852</td>\n",
       "      <td>-0.051900</td>\n",
       "      <td>-0.038487</td>\n",
       "      <td>-0.067631</td>\n",
       "      <td>0.420079</td>\n",
       "      <td>-0.153691</td>\n",
       "      <td>0.176609</td>\n",
       "      <td>-0.323555</td>\n",
       "      <td>0.139603</td>\n",
       "      <td>-0.061973</td>\n",
       "      <td>-0.027316</td>\n",
       "      <td>0.210803</td>\n",
       "      <td>0.265368</td>\n",
       "      <td>-0.272039</td>\n",
       "      <td>-0.105466</td>\n",
       "      <td>0.025260</td>\n",
       "      <td>0.205923</td>\n",
       "      <td>0.031897</td>\n",
       "      <td>0.014560</td>\n",
       "    </tr>\n",
       "    <tr>\n",
       "      <th>1</th>\n",
       "      <td>0.222320</td>\n",
       "      <td>-0.018878</td>\n",
       "      <td>-0.094138</td>\n",
       "      <td>-0.014115</td>\n",
       "      <td>-0.082424</td>\n",
       "      <td>0.368578</td>\n",
       "      <td>-0.180327</td>\n",
       "      <td>0.210975</td>\n",
       "      <td>-0.196762</td>\n",
       "      <td>0.161045</td>\n",
       "      <td>-0.122117</td>\n",
       "      <td>-0.027894</td>\n",
       "      <td>0.090236</td>\n",
       "      <td>0.248344</td>\n",
       "      <td>-0.334201</td>\n",
       "      <td>-0.137262</td>\n",
       "      <td>-0.001182</td>\n",
       "      <td>0.206787</td>\n",
       "      <td>0.002176</td>\n",
       "      <td>0.118896</td>\n",
       "    </tr>\n",
       "    <tr>\n",
       "      <th>2</th>\n",
       "      <td>0.295686</td>\n",
       "      <td>-0.074109</td>\n",
       "      <td>-0.157640</td>\n",
       "      <td>0.013762</td>\n",
       "      <td>-0.100583</td>\n",
       "      <td>0.283755</td>\n",
       "      <td>-0.158513</td>\n",
       "      <td>0.159621</td>\n",
       "      <td>-0.216080</td>\n",
       "      <td>0.127585</td>\n",
       "      <td>-0.125424</td>\n",
       "      <td>-0.042089</td>\n",
       "      <td>0.154597</td>\n",
       "      <td>0.248651</td>\n",
       "      <td>-0.190217</td>\n",
       "      <td>-0.076598</td>\n",
       "      <td>0.035310</td>\n",
       "      <td>0.162903</td>\n",
       "      <td>0.030259</td>\n",
       "      <td>0.119541</td>\n",
       "    </tr>\n",
       "    <tr>\n",
       "      <th>3</th>\n",
       "      <td>0.329360</td>\n",
       "      <td>-0.028401</td>\n",
       "      <td>-0.081093</td>\n",
       "      <td>0.053653</td>\n",
       "      <td>-0.084129</td>\n",
       "      <td>0.365069</td>\n",
       "      <td>-0.110618</td>\n",
       "      <td>0.241191</td>\n",
       "      <td>-0.289250</td>\n",
       "      <td>0.110976</td>\n",
       "      <td>-0.189444</td>\n",
       "      <td>-0.022342</td>\n",
       "      <td>0.066615</td>\n",
       "      <td>0.206617</td>\n",
       "      <td>-0.279613</td>\n",
       "      <td>-0.149786</td>\n",
       "      <td>0.004931</td>\n",
       "      <td>0.207335</td>\n",
       "      <td>0.030885</td>\n",
       "      <td>0.117385</td>\n",
       "    </tr>\n",
       "    <tr>\n",
       "      <th>4</th>\n",
       "      <td>0.299721</td>\n",
       "      <td>-0.086343</td>\n",
       "      <td>-0.126857</td>\n",
       "      <td>-0.043693</td>\n",
       "      <td>-0.034989</td>\n",
       "      <td>0.309056</td>\n",
       "      <td>-0.173559</td>\n",
       "      <td>0.203957</td>\n",
       "      <td>-0.174235</td>\n",
       "      <td>0.153253</td>\n",
       "      <td>-0.172447</td>\n",
       "      <td>0.010256</td>\n",
       "      <td>0.081476</td>\n",
       "      <td>0.245557</td>\n",
       "      <td>-0.373354</td>\n",
       "      <td>-0.127406</td>\n",
       "      <td>0.003140</td>\n",
       "      <td>0.163187</td>\n",
       "      <td>0.073052</td>\n",
       "      <td>0.165727</td>\n",
       "    </tr>\n",
       "  </tbody>\n",
       "</table>\n",
       "</div>"
      ],
      "text/plain": [
       "         0         1         2         3         4         5         6   \\\n",
       "0  0.309822  0.025852 -0.051900 -0.038487 -0.067631  0.420079 -0.153691   \n",
       "1  0.222320 -0.018878 -0.094138 -0.014115 -0.082424  0.368578 -0.180327   \n",
       "2  0.295686 -0.074109 -0.157640  0.013762 -0.100583  0.283755 -0.158513   \n",
       "3  0.329360 -0.028401 -0.081093  0.053653 -0.084129  0.365069 -0.110618   \n",
       "4  0.299721 -0.086343 -0.126857 -0.043693 -0.034989  0.309056 -0.173559   \n",
       "\n",
       "         7         8         9         10        11        12        13  \\\n",
       "0  0.176609 -0.323555  0.139603 -0.061973 -0.027316  0.210803  0.265368   \n",
       "1  0.210975 -0.196762  0.161045 -0.122117 -0.027894  0.090236  0.248344   \n",
       "2  0.159621 -0.216080  0.127585 -0.125424 -0.042089  0.154597  0.248651   \n",
       "3  0.241191 -0.289250  0.110976 -0.189444 -0.022342  0.066615  0.206617   \n",
       "4  0.203957 -0.174235  0.153253 -0.172447  0.010256  0.081476  0.245557   \n",
       "\n",
       "         14        15        16        17        18        19  \n",
       "0 -0.272039 -0.105466  0.025260  0.205923  0.031897  0.014560  \n",
       "1 -0.334201 -0.137262 -0.001182  0.206787  0.002176  0.118896  \n",
       "2 -0.190217 -0.076598  0.035310  0.162903  0.030259  0.119541  \n",
       "3 -0.279613 -0.149786  0.004931  0.207335  0.030885  0.117385  \n",
       "4 -0.373354 -0.127406  0.003140  0.163187  0.073052  0.165727  "
      ]
     },
     "execution_count": 4,
     "metadata": {},
     "output_type": "execute_result"
    }
   ],
   "source": [
    "\n",
    "pred_list = []\n",
    "\n",
    "# loop over each trial\n",
    "for i, p in enumerate(all_paths):\n",
    "    # get EMG data \n",
    "    sample = np.load(p)\n",
    "    myo = sample['data_myo']\n",
    "    myo = myo[:, LEFT_TO_RIGHT_HAND]\n",
    "\n",
    "    # predictions will have to be downsampled\n",
    "    gt_len = myo[::8].shape[0]\n",
    "\n",
    "    # padding\n",
    "    target_length = (myo.shape[0] + 255) // 256 * 256\n",
    "    padded_myo = np.pad(myo, ((0, target_length - myo.shape[0]), (0, 0)), mode='constant', constant_values=0)\n",
    "\n",
    "    # # print(f\"Loaded data: {myo.shape} - padded to: {padded_myo.shape[0]}\")\n",
    "    # # Example: Trimming or reshaping `padded_myo`\n",
    "    # desired_feature_size = 256\n",
    "    # if padded_myo.shape[0] > desired_feature_size:\n",
    "    #     # Trimming or reshaping the input to match the model's expected feature size\n",
    "    #     padded_myo = padded_myo[:desired_feature_size, :]\n",
    "    # # print(f\"Trimmed to: {padded_myo.shape}\")\n",
    "    # # some prediction. might be slididng window.\n",
    "\n",
    "    preds = model.inference(padded_myo)\n",
    "    preds_downsampled = preds[:gt_len]\n",
    "    print(f\"Completed {i+1}/{len(all_paths)}. Loaded data: {myo.shape} - padded to: {padded_myo.shape} - predictions {preds.shape} - downsampled to: {preds_downsampled.shape}\")\n",
    "    pred_list.append(preds_downsampled)\n",
    "    #print(pred_list[-1].shape)\n",
    "#print(len(pred_list))\n",
    "pred_cat = np.concatenate(pred_list, axis=0)\n",
    "df = pd.DataFrame(pred_cat)\n",
    "df.head()"
   ]
  },
  {
   "cell_type": "markdown",
   "metadata": {},
   "source": [
    "In addition to the predictions, your data should also include a sample id column."
   ]
  },
  {
   "cell_type": "code",
   "execution_count": 5,
   "metadata": {},
   "outputs": [],
   "source": [
    "df.insert(0, \"sample_id\", range(1, 1 + len(df)))"
   ]
  },
  {
   "cell_type": "markdown",
   "metadata": {},
   "source": [
    "Finally, save to a CSV file. This is what you'll upload to Kaggle for the competition."
   ]
  },
  {
   "cell_type": "code",
   "execution_count": 6,
   "metadata": {},
   "outputs": [],
   "source": [
    "df.to_csv('submit_file_Wave_MSE_Optuna2.csv', index=False)"
   ]
  },
  {
   "cell_type": "code",
   "execution_count": 7,
   "metadata": {},
   "outputs": [
    {
     "data": {
      "text/plain": [
       "(26829, 21)"
      ]
     },
     "execution_count": 7,
     "metadata": {},
     "output_type": "execute_result"
    }
   ],
   "source": [
    "df.shape"
   ]
  },
  {
   "cell_type": "code",
   "execution_count": null,
   "metadata": {},
   "outputs": [],
   "source": []
  }
 ],
 "metadata": {
  "kernelspec": {
   "display_name": "omen",
   "language": "python",
   "name": "python3"
  },
  "language_info": {
   "codemirror_mode": {
    "name": "ipython",
    "version": 3
   },
   "file_extension": ".py",
   "mimetype": "text/x-python",
   "name": "python",
   "nbconvert_exporter": "python",
   "pygments_lexer": "ipython3",
   "version": "3.9.12"
  }
 },
 "nbformat": 4,
 "nbformat_minor": 2
}
