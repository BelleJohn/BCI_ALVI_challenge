{
 "cells": [
  {
   "cell_type": "markdown",
   "metadata": {},
   "source": [
    "## A custom Model\n",
    "This notebook shows how to implement and train a model other than the baseline used for this challenge."
   ]
  },
  {
   "cell_type": "code",
   "execution_count": 6,
   "metadata": {},
   "outputs": [],
   "source": [
    "import os\n",
    "import sys\n",
    "sys.path.insert(1, os.path.realpath(os.path.pardir))\n",
    "\n",
    "import torch\n",
    "\n",
    "from utils import creating_dataset\n",
    "import numpy as np\n",
    "\n",
    "# Import the config file\n",
    "import config"
   ]
  },
  {
   "cell_type": "markdown",
   "metadata": {},
   "source": [
    "### Load data"
   ]
  },
  {
   "cell_type": "code",
   "execution_count": 7,
   "metadata": {},
   "outputs": [
    {
     "name": "stdout",
     "output_type": "stream",
     "text": [
      "Getting val datasets\n",
      "Number of moves: 72 | Dataset: fedya_tropin_standart_elbow_left\n",
      "Reorder this dataset fedya_tropin_standart_elbow_left True\n",
      "Getting train datasets\n",
      "Number of moves: 72 | Dataset: fedya_tropin_standart_elbow_left\n",
      "Reorder this dataset fedya_tropin_standart_elbow_left True\n",
      "Number of moves: 70 | Dataset: valery_first_standart_elbow_left\n",
      "Reorder this dataset valery_first_standart_elbow_left True\n",
      "Number of moves: 135 | Dataset: alex_kovalev_standart_elbow_left\n",
      "Reorder this dataset alex_kovalev_standart_elbow_left True\n",
      "Number of moves: 72 | Dataset: anna_makarova_standart_elbow_left\n",
      "Reorder this dataset anna_makarova_standart_elbow_left True\n",
      "Number of moves: 62 | Dataset: artem_snailbox_standart_elbow_left\n",
      "Reorder this dataset artem_snailbox_standart_elbow_left True\n",
      "Number of moves: 144 | Dataset: matthew_antonov_standart_elbow_left\n",
      "Reorder this dataset matthew_antonov_standart_elbow_left True\n",
      "Number of moves: 144 | Dataset: misha_korobok_standart_elbow_left\n",
      "Reorder this dataset misha_korobok_standart_elbow_left True\n",
      "Number of moves: 71 | Dataset: nikita_snailbox_standart_elbow_left\n",
      "Reorder this dataset nikita_snailbox_standart_elbow_left True\n",
      "Number of moves: 144 | Dataset: petya_chizhov_standart_elbow_left\n",
      "Reorder this dataset petya_chizhov_standart_elbow_left True\n",
      "Number of moves: 12 | Dataset: polina_maksimova_standart_elbow_left\n",
      "Reorder this dataset polina_maksimova_standart_elbow_left True\n",
      "Number of moves: 144 | Dataset: sema_duplin_standart_elbow_left\n",
      "Reorder this dataset sema_duplin_standart_elbow_left True\n",
      "Number of moves: 136 | Dataset: alex_kovalev_standart_elbow_right\n",
      "Number of moves: 69 | Dataset: andrew_snailbox_standart_elbow_right\n",
      "Number of moves: 132 | Dataset: anna_makarova_standart_elbow_right\n",
      "Number of moves: 67 | Dataset: artem_snailbox_standart_elbow_right\n",
      "Number of moves: 68 | Dataset: matthew_antonov_standart_elbow_right\n",
      "Number of moves: 72 | Dataset: matvey_gorbenko_standart_elbow_right\n",
      "Number of moves: 144 | Dataset: misha_korobok_standart_elbow_right\n",
      "Number of moves: 55 | Dataset: nikita_snailbox_standart_elbow_right\n",
      "Number of moves: 142 | Dataset: petya_chizhov_standart_elbow_right\n",
      "Number of moves: 54 | Dataset: polina_maksimova_standart_elbow_right\n",
      "Number of moves: 139 | Dataset: sema_duplin_standart_elbow_right\n",
      "Number of trainining sessions: 22\n",
      "Number of validation sessions: 1\n",
      "Size of the input (8, 256) || Size of the output (20, 32)\n"
     ]
    }
   ],
   "source": [
    "# DATA_PATH = r\"F:\\Dropbox (Personal)\\BCII\\BCI Challenges\\2024 ALVI EMG Decoding\\dataset_v2_blocks\\dataset_v2_blocks\"\n",
    "DATA_PATH = config.DATA_PATH\n",
    "data_paths = dict(datasets=[DATA_PATH],\n",
    "                    hand_type = ['left', 'right'], # [left, 'right']\n",
    "                    human_type = ['health', 'amputant'], # [amputant, 'health']\n",
    "                    test_dataset_list = ['fedya_tropin_standart_elbow_left'])\n",
    "data_config = creating_dataset.DataConfig(**data_paths)\n",
    "train_dataset, test_dataset = creating_dataset.get_datasets(data_config, )"
   ]
  },
  {
   "cell_type": "markdown",
   "metadata": {},
   "source": [
    "## Define model\n",
    "We define a simple Multi Layer Perceptron, fully connected feedforward neural network with 2 hidden layers. The model is implemented using PyTorch."
   ]
  },
  {
   "cell_type": "code",
   "execution_count": 8,
   "metadata": {},
   "outputs": [],
   "source": [
    "class MLP(torch.nn.Module):\n",
    "    def __init__(self, input_size, hidden_size, output_size):\n",
    "        super(MLP, self).__init__()\n",
    "        self.layers = torch.nn.Sequential(\n",
    "            torch.nn.Linear(input_size, hidden_size),\n",
    "            torch.nn.ReLU(),\n",
    "            torch.nn.Linear(hidden_size, output_size)\n",
    "        )\n",
    "\n",
    "    def forward(self, x):\n",
    "        return self.layers(x)"
   ]
  },
  {
   "cell_type": "markdown",
   "metadata": {},
   "source": [
    "Try making a prediction using this model."
   ]
  },
  {
   "cell_type": "code",
   "execution_count": 9,
   "metadata": {},
   "outputs": [
    {
     "name": "stdout",
     "output_type": "stream",
     "text": [
      "X shape: (8, 256), Y shape: (20, 32)\n",
      "Number of inputs: 8, number of outputs: 20\n",
      "Predictions shape: (20, 256)\n"
     ]
    },
    {
     "ename": "AssertionError",
     "evalue": "Predictions have the wrong shape!",
     "output_type": "error",
     "traceback": [
      "\u001b[31m---------------------------------------------------------------------------\u001b[39m",
      "\u001b[31mAssertionError\u001b[39m                            Traceback (most recent call last)",
      "\u001b[36mCell\u001b[39m\u001b[36m \u001b[39m\u001b[32mIn[9]\u001b[39m\u001b[32m, line 15\u001b[39m\n\u001b[32m     11\u001b[39m Y_hat = model(torch.tensor(X.T)).detach().numpy().T\n\u001b[32m     13\u001b[39m \u001b[38;5;28mprint\u001b[39m(\u001b[33mf\u001b[39m\u001b[33m\"\u001b[39m\u001b[33mPredictions shape: \u001b[39m\u001b[38;5;132;01m{\u001b[39;00mY_hat.shape\u001b[38;5;132;01m}\u001b[39;00m\u001b[33m\"\u001b[39m) \u001b[38;5;66;03m# Predictions shape: (20, 32)\u001b[39;00m\n\u001b[32m---> \u001b[39m\u001b[32m15\u001b[39m \u001b[38;5;28;01massert\u001b[39;00m Y.shape == Y_hat.shape, \u001b[33m\"\u001b[39m\u001b[33mPredictions have the wrong shape!\u001b[39m\u001b[33m\"\u001b[39m\n",
      "\u001b[31mAssertionError\u001b[39m: Predictions have the wrong shape!"
     ]
    }
   ],
   "source": [
    "X, Y = train_dataset[0]\n",
    "print(f\"X shape: {X.shape}, Y shape: {Y.shape}\")\n",
    "\n",
    "n_inputs, n_outputs = X.shape[0], Y.shape[0]\n",
    "print(f\"Number of inputs: {n_inputs}, number of outputs: {n_outputs}\")\n",
    "n_hidden = 64\n",
    "\n",
    "model = MLP(n_inputs, n_hidden, n_outputs)\n",
    "\n",
    "\n",
    "Y_hat = model(torch.tensor(X.T)).detach().numpy().T\n",
    "\n",
    "print(f\"Predictions shape: {Y_hat.shape}\") # Predictions shape: (20, 32)\n",
    "\n",
    "assert Y.shape == Y_hat.shape, \"Predictions have the wrong shape!\""
   ]
  },
  {
   "cell_type": "markdown",
   "metadata": {},
   "source": [
    "As you can see. The model's predictions are of the wrong shape: the outputs are not downsampled! Remember that inputs are sampled at 200Hz, but outputs are meant to be at 25Hz. We need to downsample the outputs to match the expected shape.\n",
    "\n",
    "You can choose your own downsampling method, but make sure that your predictions are aligned to the targets!"
   ]
  },
  {
   "cell_type": "code",
   "execution_count": 10,
   "metadata": {},
   "outputs": [],
   "source": [
    "import numpy as np\n",
    "\n",
    "def simple_downsample(x: np.ndarray) -> np.ndarray:\n",
    "    return x[:, ::data_config.down_sample_target]\n",
    "\n",
    "Y_hat = model(torch.tensor(X.T)).detach().numpy().T\n",
    "Y_hat = simple_downsample(Y_hat)\n",
    "\n",
    "\n",
    "assert Y.shape == Y_hat.shape, \"Predictions have the wrong shape!\""
   ]
  },
  {
   "cell_type": "markdown",
   "metadata": {},
   "source": [
    "For simplicity, you can build the downsampling into your model"
   ]
  },
  {
   "cell_type": "code",
   "execution_count": 11,
   "metadata": {},
   "outputs": [],
   "source": [
    "class MLP(torch.nn.Module):\n",
    "    def __init__(self, input_size, hidden_size, output_size):\n",
    "        super(MLP, self).__init__()\n",
    "        self.layers = torch.nn.Sequential(\n",
    "            torch.nn.Linear(input_size, hidden_size),\n",
    "            torch.nn.ReLU(),\n",
    "            torch.nn.Linear(hidden_size, output_size)\n",
    "        )\n",
    "\n",
    "    def forward(self, x):\n",
    "        x = self.layers(x)\n",
    "        return x[::data_config.down_sample_target, :]\n",
    "    \n",
    "\n",
    "model = MLP(n_inputs, n_hidden, n_outputs)\n",
    "\n",
    "Y_hat = model(torch.tensor(X.T)).detach().numpy().T\n",
    "assert Y.shape == Y_hat.shape, \"Predictions have the wrong shape!\""
   ]
  },
  {
   "cell_type": "code",
   "execution_count": null,
   "metadata": {},
   "outputs": [],
   "source": [
    "# # this is the implementation of the transfer learning model\n",
    "# # Doesn't work yet, need to be modified\n",
    "# import timm\n",
    "# import lightning as lit\n",
    "\n",
    "# # class MLP(torch.nn.Module):\n",
    "# class MLP(lit.LightningModule):\n",
    "#     def __init__(self, input_size, hidden_size, output_size):\n",
    "#         super(MLP, self).__init__()\n",
    "\n",
    "#         self.model = timm.create_model(\n",
    "#             \"resnet34\", #model_name,\n",
    "#             pretrained=True,\n",
    "#             num_classes=output_size,\n",
    "#             #drop_rate=drop_out,\n",
    "#         )\n",
    "\n",
    "\n",
    "#         self.layers = torch.nn.Sequential(\n",
    "#             torch.nn.Linear(input_size, hidden_size),\n",
    "#             torch.nn.ReLU(),\n",
    "#             torch.nn.Linear(hidden_size, output_size)\n",
    "#         )\n",
    "\n",
    "#     def forward(self, x):\n",
    "#         # x = self.layers(x)\n",
    "#         x = self.model(x)\n",
    "#         return x[::data_config.down_sample_target, :]\n",
    "    \n",
    "\n",
    "# X, Y = train_dataset[0]\n",
    "# print(f\"X shape: {X.shape}, Y shape: {Y.shape}\")\n",
    "\n",
    "# n_inputs, n_outputs = X.shape[0], Y.shape[0]\n",
    "# print(f\"Number of inputs: {n_inputs}, number of outputs: {n_outputs}\")\n",
    "# n_hidden = 64\n",
    "\n",
    "# model = MLP(n_inputs, n_hidden, n_outputs)\n",
    "\n",
    "# Y_hat = model(torch.tensor(X.T)).detach().numpy().T\n",
    "# assert Y.shape == Y_hat.shape, \"Predictions have the wrong shape!\""
   ]
  },
  {
   "cell_type": "markdown",
   "metadata": {},
   "source": [
    "## Training\n",
    "\n",
    "We define a very simple training procedure."
   ]
  },
  {
   "cell_type": "code",
   "execution_count": null,
   "metadata": {},
   "outputs": [
    {
     "name": "stdout",
     "output_type": "stream",
     "text": [
      "Epoch 1 Loss: 14360825.3108\n",
      "Epoch 2 Loss: 2038618848.3921\n",
      "Epoch 3 Loss: 2183074166.5399\n",
      "Epoch 4 Loss: 498072217.9761\n",
      "Epoch 5 Loss: 693923.9264\n",
      "Epoch 6 Loss: 49018.0170\n",
      "Epoch 7 Loss: 27124.2872\n",
      "Epoch 8 Loss: 28227.6572\n",
      "Epoch 9 Loss: 27684.0696\n",
      "Epoch 10 Loss: 27660.4545\n",
      "Epoch 11 Loss: 27459.3165\n",
      "Epoch 12 Loss: 27090.3863\n",
      "Epoch 13 Loss: 27158.2085\n",
      "Epoch 14 Loss: 27606.0665\n",
      "Epoch 15 Loss: 27229.5720\n",
      "Epoch 16 Loss: 27344.3499\n",
      "Epoch 17 Loss: 27473.2908\n",
      "Epoch 18 Loss: 27277.6425\n",
      "Epoch 19 Loss: 27296.7149\n",
      "Epoch 20 Loss: 27057.7852\n",
      "Epoch 21 Loss: 27705.9931\n",
      "Epoch 22 Loss: 27075.3975\n",
      "Epoch 23 Loss: 27572.1392\n",
      "Epoch 24 Loss: 26912.4114\n",
      "Epoch 25 Loss: 27070.6836\n"
     ]
    }
   ],
   "source": [
    "n_epochs = 25\n",
    "lr = 1e-3\n",
    "\n",
    "device = torch.device(\"cuda\" if torch.cuda.is_available() else \"cpu\")\n",
    "print(f\"Using device: {device}\")\n",
    "\n",
    "model = MLP(n_inputs, n_hidden, n_outputs).to(device)\n",
    "optimizer = torch.optim.Adam(model.parameters(), lr=lr)\n",
    "criterion = torch.nn.MSELoss()\n",
    "\n",
    "for epoch in range(n_epochs):\n",
    "    model.train()\n",
    "    optimizer.zero_grad()\n",
    "    \n",
    "    epoch_loss = 0\n",
    "    for X,Y in train_dataset:\n",
    "        X, Y = torch.tensor(X.T).to(device), torch.tensor(Y).to(device)\n",
    "        Y_hat = model(X).T\n",
    "\n",
    "        loss = criterion(Y_hat, Y)\n",
    "        loss.backward()\n",
    "        epoch_loss += loss.item()\n",
    "\n",
    "        optimizer.step()\n",
    "\n",
    "    print(f\"Epoch {epoch+1} Loss: {epoch_loss:.4f}\")\n",
    "\n",
    "    "
   ]
  },
  {
   "cell_type": "markdown",
   "metadata": {},
   "source": [
    "### Let's plot some predictions"
   ]
  },
  {
   "cell_type": "code",
   "execution_count": null,
   "metadata": {},
   "outputs": [
    {
     "data": {
      "image/png": "[encoded data removed]",
      "text/plain": [
       "<Figure size 1000x1000 with 5 Axes>"
      ]
     },
     "metadata": {},
     "output_type": "display_data"
    }
   ],
   "source": [
    "import matplotlib.pyplot as plt\n",
    "\n",
    "\n",
    "X, Y = test_dataset[0]\n",
    "\n",
    "Y_hat = model(torch.tensor(X.T).to(device)).detach().cpu().numpy().T\n",
    "\n",
    "f, axes = plt.subplots(5, 1, figsize=(10, 10), sharex=True)\n",
    "\n",
    "for i, ax in enumerate(axes):\n",
    "    ax.plot(Y[i], label=\"True\", lw=2, color='k')\n",
    "    ax.plot(Y_hat[i], label=\"Predicted\", lw=1, color='r')\n",
    "\n",
    "    ax.legend()\n",
    "\n",
    "# The results are not good, but the model is basically not well trained in this case."
   ]
  },
  {
   "cell_type": "code",
   "execution_count": null,
   "metadata": {},
   "outputs": [],
   "source": []
  }
 ],
 "metadata": {
  "kernelspec": {
   "display_name": ".venv",
   "language": "python",
   "name": "python3"
  },
  "language_info": {
   "codemirror_mode": {
    "name": "ipython",
    "version": 3
   },
   "file_extension": ".py",
   "mimetype": "text/x-python",
   "name": "python",
   "nbconvert_exporter": "python",
   "pygments_lexer": "ipython3",
   "version": "3.11.5"
  }
 },
 "nbformat": 4,
 "nbformat_minor": 2
}
